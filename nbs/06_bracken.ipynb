{
 "cells": [
  {
   "cell_type": "code",
   "execution_count": null,
   "metadata": {},
   "outputs": [],
   "source": [
    "# |default_exp bracken"
   ]
  },
  {
   "cell_type": "code",
   "execution_count": null,
   "metadata": {},
   "outputs": [],
   "source": [
    "# |hide\n",
    "# See above? this hides these blocks, meaning these blocks aren't in the module and aren't in the documentation\n",
    "import nbdev\n",
    "from nbdev.showdoc import *  # ignore this Pylance warning in favor of following nbdev docs"
   ]
  },
  {
   "cell_type": "code",
   "execution_count": null,
   "metadata": {},
   "outputs": [],
   "source": [
    "# |export\n",
    "# That export there, it makes sure this code goes into the module.\n",
    "\n",
    "# standard libs\n",
    "import os\n",
    "import re\n",
    "\n",
    "# Common to template\n",
    "# add into settings.ini, requirements, package name is python-dotenv, for conda build ensure `conda config --add channels conda-forge`\n",
    "import dotenv  # for loading config from .env files, https://pypi.org/project/python-dotenv/\n",
    "import envyaml  # Allows to loads env vars into a yaml file, https://github.com/thesimj/envyaml\n",
    "import fastcore  # To add functionality related to nbdev development, https://github.com/fastai/fastcore/\n",
    "from fastcore import (\n",
    "    test,\n",
    ")\n",
    "from fastcore.script import (\n",
    "    call_parse,\n",
    ")  # for @call_parse, https://fastcore.fast.ai/script\n",
    "import json  # for nicely printing json and yaml\n",
    "from fastcore import test\n",
    "import pandas as pd\n",
    "#!export\n",
    "from bifrost_bridge import core\n"
   ]
  },
  {
   "cell_type": "code",
   "execution_count": null,
   "metadata": {},
   "outputs": [],
   "source": [
    "# |hide\n",
    "# This block should never be exported. It is to have python running in the project (and not the nbs) dir, and to initiate the package using pip.\n",
    "os.chdir(core.PROJECT_DIR)"
   ]
  },
  {
   "cell_type": "markdown",
   "metadata": {},
   "source": [
    "##################################################CODE_SEGMENT###########################################"
   ]
  },
  {
   "cell_type": "code",
   "execution_count": null,
   "metadata": {},
   "outputs": [],
   "source": [
    "# |export\n",
    "\n",
    "def process_bracken_data(\n",
    "    input_path:str,\n",
    "    output_path:str = './output.tsv',\n",
    "    add_header:str = '%ofreads, reads, notsure, rank, taxid, name',\n",
    "    replace_header:str = None,\n",
    "    filter_columns:str = None,\n",
    "    transpose:bool = True):\n",
    "\n",
    "    \"\"\"\n",
    "    Process Bracken data.\n",
    "\n",
    "    This function processes Bracken data files by importing the data, optionally replacing the header,\n",
    "    transposing the data, filtering columns, and exporting the processed data to an output file.\n",
    "\n",
    "    Arguments:\n",
    "        input_path (str): Path to the input file.\n",
    "        output_path (str): Path to the output file (default: './output.tsv').\n",
    "        replace_header (str): Header to replace the existing header (default: None).\n",
    "        filter_columns (str): Columns to filter from the header (default: None).\n",
    "        transpose (bool): Whether to transpose the data (default: True).\n",
    "    \"\"\"\n",
    "\n",
    "    df = core.DataFrame()\n",
    "    df.import_data(input_path, file_type='tsv', add_header=add_header)\n",
    "    \n",
    "    df.df = pd.concat([\n",
    "        df.df[df.df[\"rank\"] == \"U\"],\n",
    "        df.df[df.df[\"rank\"] == \"S\"].sort_values(by=\"%ofreads\", ascending=False)\n",
    "    ])\n",
    "    df.df = df.df.head(3)\n",
    "\n",
    "\n",
    "    df_output = core.DataFrame()\n",
    "    df_output.df = pd.DataFrame({\n",
    "        'species1_unclassified_name': [df.df.iloc[1]['name'] + ' + unclassified'],\n",
    "        'species1_unclassified_pct': [df.df.iloc[1]['%ofreads'] + df.df.iloc[0]['%ofreads']],\n",
    "        'species1_name': [df.df.iloc[1]['name']],\n",
    "        'species1_pct': [df.df.iloc[1]['%ofreads']],\n",
    "        'species2_name': [df.df.iloc[2]['name']],\n",
    "        'species2_pct': [df.df.iloc[2]['%ofreads']],\n",
    "        'unclassified_name': [df.df.iloc[0]['name']],\n",
    "        'unclassified_pct': [df.df.iloc[0]['%ofreads']]\n",
    "    })\n",
    "\n",
    "    if replace_header:\n",
    "        df_output.rename_header(replace_header)\n",
    "\n",
    "    if filter_columns:\n",
    "        df_output.filter_columns(filter_columns)\n",
    "\n",
    "\n",
    "    #print(df.df)\n",
    "    #print(type(df.df))\n",
    "\n",
    "    df_output.export_data(output_path, file_type='tsv')\n",
    "\n",
    "\n",
    "@call_parse\n",
    "def process_bracken_data_from_cli(\n",
    "    input_path:str,\n",
    "    output_path:str = './output.tsv',\n",
    "    add_header:str = '%ofreads, reads, notsure, rank, taxid, name',\n",
    "    replace_header:str = None,\n",
    "    filter_columns:str = None):\n",
    "    process_bracken_data(input_path, output_path, replace_header, filter_columns)"
   ]
  },
  {
   "cell_type": "code",
   "execution_count": null,
   "metadata": {},
   "outputs": [],
   "source": [
    "# |hide\n",
    "# Example usage of the function\n",
    "process_bracken_data(\n",
    "    input_path='/Users/B246654/vscode_storage/ssi-dk/bifrost_bridge/test_data/bracken_krakenreport.txt', \n",
    "    output_path='/Users/B246654/vscode_storage/ssi-dk/bifrost_bridge/test_data/bracken_test_out.tabular'\n",
    ")"
   ]
  },
  {
   "cell_type": "markdown",
   "metadata": {},
   "source": [
    "##################################################CODE_SEGMENT###########################################"
   ]
  },
  {
   "cell_type": "code",
   "execution_count": null,
   "metadata": {},
   "outputs": [],
   "source": [
    "#| hide\n",
    "# This is included at the end to ensure when you run through your notebook the code is also transferred to the associated python package\n",
    "\n",
    "nbdev.nbdev_export()"
   ]
  }
 ],
 "metadata": {
  "kernelspec": {
   "display_name": "python3",
   "language": "python",
   "name": "python3"
  }
 },
 "nbformat": 4,
 "nbformat_minor": 2
}
