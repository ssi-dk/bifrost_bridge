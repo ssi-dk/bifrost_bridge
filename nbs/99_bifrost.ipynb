{
 "cells": [
  {
   "cell_type": "code",
   "execution_count": null,
   "metadata": {},
   "outputs": [],
   "source": [
    "# |default_exp bifrost"
   ]
  },
  {
   "cell_type": "code",
   "execution_count": null,
   "metadata": {},
   "outputs": [],
   "source": [
    "# |hide\n",
    "# See above? this hides these blocks, meaning these blocks aren't in the module and aren't in the documentation\n",
    "import nbdev\n",
    "from nbdev.showdoc import *  # ignore this Pylance warning in favor of following nbdev docs"
   ]
  },
  {
   "cell_type": "code",
   "execution_count": null,
   "metadata": {},
   "outputs": [],
   "source": [
    "# |export\n",
    "# That export there, it makes sure this code goes into the module.\n",
    "\n",
    "# standard libs\n",
    "import os\n",
    "import re\n",
    "\n",
    "# Common to template\n",
    "# add into settings.ini, requirements, package name is python-dotenv, for conda build ensure `conda config --add channels conda-forge`\n",
    "import dotenv  # for loading config from .env files, https://pypi.org/project/python-dotenv/\n",
    "import envyaml  # Allows to loads env vars into a yaml file, https://github.com/thesimj/envyaml\n",
    "import fastcore  # To add functionality related to nbdev development, https://github.com/fastai/fastcore/\n",
    "from fastcore import (\n",
    "    test,\n",
    ")\n",
    "from fastcore.script import (\n",
    "    call_parse,\n",
    ")  # for @call_parse, https://fastcore.fast.ai/script\n",
    "import json  # for nicely printing json and yaml\n",
    "from fastcore import test\n",
    "\n",
    "#!export\n",
    "from bifrost_bridge import core"
   ]
  },
  {
   "cell_type": "code",
   "execution_count": null,
   "metadata": {},
   "outputs": [],
   "source": [
    "# |hide\n",
    "# This block should never be exported. It is to have python running in the project (and not the nbs) dir, and to initiate the package using pip.\n",
    "os.chdir(core.PROJECT_DIR)"
   ]
  },
  {
   "cell_type": "markdown",
   "metadata": {},
   "source": [
    "##################################################CODE_SEGMENT###########################################"
   ]
  },
  {
   "cell_type": "code",
   "execution_count": null,
   "metadata": {},
   "outputs": [],
   "source": [
    "# |export\n",
    "from bifrost_bridge.mlst import process_mlst_data\n",
    "from bifrost_bridge.fastp import process_fastp_data\n",
    "\n",
    "@call_parse\n",
    "def process_qc_data(\n",
    "    mlst_path:str = None,\n",
    "    fastp_path:str = None,\n",
    "    output_path:str = './output.tsv'):\n",
    "\n",
    "    \"\"\"\n",
    "    Command-line interface for processing QC data.\n",
    "\n",
    "    This function processes MLST and FASTP data files based on the provided command-line arguments.\n",
    "    It supports specifying input file paths for MLST and FASTP data, and outputs the processed data to specified paths.\n",
    "\n",
    "    Arguments:\n",
    "        mlst (str): Path to the MLST input file.\n",
    "        fastp (str): Path to the FASTP input file.\n",
    "        output (str): Path to the output file (default: './output.tsv').\n",
    "    \"\"\"\n",
    "    print(mlst_path)\n",
    "    print(fastp_path)\n",
    "    if mlst_path is not None:\n",
    "        if not os.path.exists(mlst_path):\n",
    "            raise FileNotFoundError(f\"File not found: {mlst_path}\")\n",
    "        process_mlst_data(\n",
    "        input_path=str(mlst_path), \n",
    "        output_path='./parsed_mlst.tsv',\n",
    "        replace_header=None, \n",
    "        filter_columns=\"SampleID, Species, ST\",\n",
    "        header_exists=0,\n",
    "        add_header=\"SampleID, Species, ST, 1, 2, 3, 4, 5, 6, 7\"\n",
    "        )\n",
    "\n",
    "    if fastp_path is not None:\n",
    "        if not os.path.exists(fastp_path):\n",
    "            raise FileNotFoundError(f\"File not found: {fastp_path}\")\n",
    "        process_fastp_data(\n",
    "            input_path=fastp_path, \n",
    "            output_path='./parsed_fastp.tsv',\n",
    "            filter_columns=\"summary£fastp_version, summary£sequencing, summary£before_filtering£total_reads\",\n",
    "            replace_header=\"fastp_version, sequencing, total_reads\"\n",
    "        )\n"
   ]
  },
  {
   "cell_type": "code",
   "execution_count": null,
   "metadata": {},
   "outputs": [
    {
     "name": "stdout",
     "output_type": "stream",
     "text": [
      "      SampleID        Species  ST\n",
      "0  TestSample2  campylobacter  22\n",
      "  fastp_version                            sequencing  total_reads\n",
      "0        0.23.4  paired end (151 cycles + 151 cycles)      4369610\n"
     ]
    }
   ],
   "source": [
    "# |hide\n",
    "# Example usage of the function\n",
    "#process_qc_data(\n",
    "#    mlst_path='/Users/B246654/vscode_storage/ssi-dk/bifrost_bridge/test_data/mlst_report.tabular', \n",
    "#    fastp_path='/Users/B246654/vscode_storage/ssi-dk/bifrost_bridge/test_data/TestSample2.json'\n",
    "#)"
   ]
  },
  {
   "cell_type": "markdown",
   "metadata": {},
   "source": [
    "##################################################CODE_SEGMENT###########################################"
   ]
  },
  {
   "cell_type": "code",
   "execution_count": null,
   "metadata": {},
   "outputs": [],
   "source": [
    "#| hide\n",
    "# This is included at the end to ensure when you run through your notebook the code is also transferred to the associated python package\n",
    "\n",
    "nbdev.nbdev_export()"
   ]
  }
 ],
 "metadata": {
  "kernelspec": {
   "display_name": "python3",
   "language": "python",
   "name": "python3"
  }
 },
 "nbformat": 4,
 "nbformat_minor": 2
}
