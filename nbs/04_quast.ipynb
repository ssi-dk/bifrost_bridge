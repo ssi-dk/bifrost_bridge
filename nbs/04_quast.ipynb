{
 "cells": [
  {
   "cell_type": "code",
   "execution_count": null,
   "metadata": {},
   "outputs": [],
   "source": [
    "# |default_exp quast"
   ]
  },
  {
   "cell_type": "code",
   "execution_count": null,
   "metadata": {},
   "outputs": [],
   "source": [
    "# |hide\n",
    "# See above? this hides these blocks, meaning these blocks aren't in the module and aren't in the documentation\n",
    "import nbdev\n",
    "from nbdev.showdoc import *  # ignore this Pylance warning in favor of following nbdev docs"
   ]
  },
  {
   "cell_type": "code",
   "execution_count": null,
   "metadata": {},
   "outputs": [],
   "source": [
    "# |export\n",
    "# That export there, it makes sure this code goes into the module.\n",
    "\n",
    "# standard libs\n",
    "import os\n",
    "import re\n",
    "\n",
    "# Common to template´\n",
    "# add into settings.ini, requirements, package name is python-dotenv, for conda build ensure `conda config --add channels conda-forge`\n",
    "import dotenv  # for loading config from .env files, https://pypi.org/project/python-dotenv/\n",
    "import envyaml  # Allows to loads env vars into a yaml file, https://github.com/thesimj/envyaml\n",
    "import fastcore  # To add functionality related to nbdev development, https://github.com/fastai/fastcore/\n",
    "from fastcore import (\n",
    "    test,\n",
    ")\n",
    "from fastcore.script import (\n",
    "    call_parse,\n",
    ")  # for @call_parse, https://fastcore.fast.ai/script\n",
    "import json  # for nicely printing json and yaml\n",
    "from fastcore import test\n",
    "\n",
    "#!export\n",
    "from bifrost_bridge import core\n"
   ]
  },
  {
   "cell_type": "code",
   "execution_count": null,
   "metadata": {},
   "outputs": [],
   "source": [
    "# |hide\n",
    "# This block should never be exported. It is to have python running in the project (and not the nbs) dir, and to initiate the package using pip.\n",
    "os.chdir(core.PROJECT_DIR)"
   ]
  },
  {
   "cell_type": "markdown",
   "metadata": {},
   "source": [
    "##################################################CODE_SEGMENT###########################################"
   ]
  },
  {
   "cell_type": "code",
   "execution_count": null,
   "metadata": {},
   "outputs": [],
   "source": [
    "# |export\n",
    "\n",
    "def process_quast_data(\n",
    "    input_path:str,\n",
    "    output_path:str = './output.tsv',\n",
    "    add_header:str = '',\n",
    "    replace_header:str = None,\n",
    "    filter_columns:str = None,\n",
    "    transpose:bool = True):\n",
    "\n",
    "    \"\"\"\n",
    "    Process QUAST data.\n",
    "\n",
    "    This function processes QUAST data files by importing the data, optionally replacing the header,\n",
    "    transposing the data, filtering columns, and exporting the processed data to an output file.\n",
    "\n",
    "    Arguments:\n",
    "        input_path (str): Path to the input file.\n",
    "        output_path (str): Path to the output file (default: './output.tsv').\n",
    "        replace_header (str): Header to replace the existing header (default: None).\n",
    "        filter_columns (str): Columns to filter from the header (default: None).\n",
    "        transpose (bool): Whether to transpose the data (default: True).\n",
    "    \"\"\"\n",
    "    \n",
    "    df = core.DataFrame()\n",
    "\n",
    "    if not os.path.exists(input_path):\n",
    "        raise FileNotFoundError(f\"The input file {input_path} does not exist.\")\n",
    "\n",
    "    if transpose:\n",
    "        df.import_data(input_path, file_type='tsv', add_header=['column_names', 'values'])\n",
    "        df_df = df.df\n",
    "        df_df = df_df.T\n",
    "        df_df = df_df.rename(columns=df_df.loc['column_names'])\n",
    "        df_df.drop('column_names', axis=0, inplace=True)\n",
    "        df.df = df_df\n",
    "        print(add_header)\n",
    "        if add_header:\n",
    "            add_header = add_header.replace(\" \", \"\").split(',')\n",
    "            if len(add_header) != len(df.df.columns):\n",
    "                raise ValueError(f\"Error: Number of new column names ({len(add_header)}) must match the number of columns in the DataFrame ({len(df.df.columns)}).\")\n",
    "            elif isinstance(add_header, str):\n",
    "                if len(add_header) > 0:\n",
    "                    df.df.columns = add_header\n",
    "            elif isinstance(add_header, list):\n",
    "                df.df.columns = add_header\n",
    "            else:\n",
    "                raise ValueError(f\"Error: Invalid type for add_header ({type(add_header)}). Must be a string or list.\")\n",
    "    else:\n",
    "        df.import_data(input_path, file_type='tsv', add_header=add_header)\n",
    "        #print(df.df)\n",
    "\n",
    "    if filter_columns:\n",
    "        df.filter_columns(filter_columns)\n",
    "\n",
    "    if replace_header:\n",
    "        df.rename_header(replace_header)\n",
    "\n",
    "    df.export_data(output_path, file_type='tsv')\n",
    "\n",
    "\n",
    "@call_parse\n",
    "def process_quast_data_from_cli(\n",
    "    input_path:str,\n",
    "    output_path:str = './output.tsv',\n",
    "    add_header:str = '',\n",
    "    replace_header:str = None,\n",
    "    filter_columns:str = None,\n",
    "    transpose:bool = True):\n",
    "    process_quast_data(input_path, output_path, add_header, replace_header, filter_columns, transpose)"
   ]
  },
  {
   "cell_type": "code",
   "execution_count": null,
   "metadata": {},
   "outputs": [],
   "source": [
    "# |hide\n",
    "# Example usage of the function\n",
    "#process_quast_data(\n",
    "#   input_path='test_data/quast.tsv', \n",
    "#   output_path='test_data/quast_test_out1.tsv',\n",
    "#   #add_header = '1,2,3,4,5,6,7,8,9,10,11,12,13,14,15',\n",
    "#   #replace_header = '1,2,3,4,5,6,7,8,9,10,11,12,13,14,15',\n",
    "#   #filter_columns='Assembly,# contigs (>= 0 bp), N50',\n",
    "#   transpose=True\n",
    "#)"
   ]
  },
  {
   "cell_type": "code",
   "execution_count": null,
   "metadata": {},
   "outputs": [],
   "source": [
    "# |hide\n",
    "# Example usage of the function\n",
    "#process_quast_data(\n",
    "#   input_path='test_data/quast_transposed.tsv', \n",
    "#   output_path='test_data/quast_test_out2.tsv',\n",
    "#   #add_header = '1,2,3,4,5,6,7,8,9,10,11,12,13,14,15',\n",
    "#   #replace_header = '1,2,3,4,5,6,7,8,9,10,11,12,13,14,15',\n",
    "#   #filter_columns='Assembly,# contigs (>= 0 bp), N50',\n",
    "#   #filter_columns = '1,2,3',\n",
    "#   transpose=False\n",
    "#)"
   ]
  },
  {
   "cell_type": "markdown",
   "metadata": {},
   "source": [
    "##################################################CODE_SEGMENT###########################################"
   ]
  },
  {
   "cell_type": "code",
   "execution_count": null,
   "metadata": {},
   "outputs": [],
   "source": [
    "#| hide\n",
    "# This is included at the end to ensure when you run through your notebook the code is also transferred to the associated python package\n",
    "\n",
    "nbdev.nbdev_export()"
   ]
  }
 ],
 "metadata": {
  "kernelspec": {
   "display_name": "python3",
   "language": "python",
   "name": "python3"
  }
 },
 "nbformat": 4,
 "nbformat_minor": 2
}
